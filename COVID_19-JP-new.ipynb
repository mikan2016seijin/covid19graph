{
 "cells": [
  {
   "cell_type": "code",
   "execution_count": 1,
   "metadata": {},
   "outputs": [],
   "source": [
    "# githubからの読み込み\n",
    "# https://github.com/CSSEGISandData/COVID-19\n",
    "# pythonでのグラフ化はここが一番参考になりそう\n",
    "# https://oku.edu.mie-u.ac.jp/%7Eokumura/python/COVID-19.html"
   ]
  },
  {
   "cell_type": "code",
   "execution_count": 17,
   "metadata": {},
   "outputs": [],
   "source": [
    "import pandas as pd\n",
    "import requests\n",
    "import io\n",
    "import matplotlib.pyplot as plt"
   ]
  },
  {
   "cell_type": "code",
   "execution_count": 18,
   "metadata": {},
   "outputs": [],
   "source": [
    "# CSSEGISandDataからCSVを読み込み\n",
    "\n",
    "URL_conf= \"https://raw.githubusercontent.com/CSSEGISandData/COVID-19/master/csse_covid_19_data/csse_covid_19_time_series/time_series_covid19_confirmed_global.csv\"\n",
    "#URL_conf= \"https://raw.githubusercontent.com/CSSEGISandData/COVID-19/master/csse_covid_19_data/csse_covid_19_time_series/time_series_19-covid-Confirmed.csv\"\n",
    "URL_death = \"https://raw.githubusercontent.com/CSSEGISandData/COVID-19/master/csse_covid_19_data/csse_covid_19_time_series/time_series_covid19_deaths_global.csv\"\n",
    "#URL_death = \"https://raw.githubusercontent.com/CSSEGISandData/COVID-19/master/csse_covid_19_data/csse_covid_19_time_series/time_series_19-covid-Deaths.csv\"\n",
    "URL_recov = \"https://raw.githubusercontent.com/CSSEGISandData/COVID-19/master/csse_covid_19_data/csse_covid_19_time_series/time_series_covid19_recovered_global.csv\"\n",
    "#URL_recov = \"https://raw.githubusercontent.com/CSSEGISandData/COVID-19/master/csse_covid_19_data/csse_covid_19_time_series/time_series_19-covid-Recovered.csv\"\n",
    "\n",
    "table_conf = pd.read_csv(URL_conf)\n",
    "table_death = pd.read_csv(URL_death)\n",
    "table_recov = pd.read_csv(URL_recov)\n",
    "#print(table_conf)\n",
    "\n",
    "# --> 列方向　[0]:Province/State,  [1]:Country/Region, [2-3] Lat,Long, [4:~]:日毎の数\n",
    "# ^ 行方向　[0][1]で区別される国・年毎のデー"
   ]
  },
  {
   "cell_type": "code",
   "execution_count": 19,
   "metadata": {},
   "outputs": [
    {
     "name": "stdout",
     "output_type": "stream",
     "text": [
      "x-axis : (102,)\n",
      "head: Province/State    0\n",
      "dtype: object\n",
      "jap_deatth_line: 1 102\n",
      "jap conf lines: 1 102\n",
      "jap recov lines: 1 102\n",
      "dia conf lines: 1 102\n",
      "dia recov lines: 1 102\n",
      "dia death lines: 1 102\n",
      "US conf lines: 1 102\n",
      "US recov lines: 1 102\n",
      "US death lines: 1 102\n",
      "fr conf lines: 11 101\n",
      "fr recov lines: 11 101\n",
      "fr death lines: 11 101\n",
      "nl conf lines: 5 101\n",
      "nl recov lines: 5 101\n",
      "nl death lines: 5 101\n",
      "de conf lines: 1 102\n",
      "de recov lines: 1 102\n",
      "de death lines: 1 102\n",
      "ru conf lines: 1 102\n",
      "ru recov lines: 1 102\n",
      "ru death lines: 1 102\n",
      "1/22/20 4/28/20 98\n"
     ]
    }
   ],
   "source": [
    "#必要な行を取り出そう\n",
    "# Country/Regionで概ね分類できそう\n",
    "# 関数を使わないで抽出している\n",
    "#   https://deepage.net/features/pandas-cond-extraction.html\n",
    "# 何行あるかは確認しておきたいな。\n",
    "#  bool型リストをsumすることで行数は確認できる sum(df_bool)等\n",
    "# 複数行でてきたらどうやって統合するか？\n",
    "#  \n",
    "\n",
    "headx = jap_death.sum()[0:1]\n",
    "\n",
    "print(\"x-axis :\",table_conf.columns.values.shape)\n",
    "print('head:',headx)\n",
    "\n",
    "df_bool = table_death['Country/Region'] == 'Japan'\n",
    "jap_death= table_death[df_bool]\n",
    "print('jap_deatth_line:',sum(df_bool), len(jap_death.sum()))\n",
    "#print(jap_death.sum())\n",
    "df_bool = table_conf['Country/Region'] == 'Japan'\n",
    "jap_conf = table_conf[df_bool]\n",
    "print('jap conf lines:', sum(df_bool), len(jap_conf.sum()))\n",
    "df_bool = table_recov['Country/Region'] == 'Japan'\n",
    "jap_recov = table_recov[df_bool]\n",
    "print('jap recov lines:', sum(df_bool), len(jap_recov.sum()))\n",
    "\n",
    "df_bool = table_conf['Country/Region'] == 'Diamond Princess'\n",
    "diam_conf = table_conf[df_bool]\n",
    "print('dia conf lines:', sum(df_bool), len(diam_conf.sum()))\n",
    "df_bool = table_recov['Country/Region'] == 'Diamond Princess'\n",
    "diam_recov = table_recov[df_bool]\n",
    "print('dia recov lines:', sum(df_bool), len(diam_recov.sum()))\n",
    "df_bool = table_death['Country/Region'] == 'Diamond Princess'\n",
    "diam_death = table_death[df_bool]\n",
    "print('dia death lines:', sum(df_bool), len(diam_death.sum()))\n",
    "\n",
    "df_bool = table_conf['Country/Region'] == 'US'\n",
    "us_conf = table_conf[df_bool]\n",
    "print('US conf lines:', sum(df_bool), len(us_conf.sum()))\n",
    "df_bool = table_recov['Country/Region'] == 'US'\n",
    "us_recov = table_recov[df_bool]\n",
    "print('US recov lines:', sum(df_bool), len(us_recov.sum()))\n",
    "df_bool = table_death['Country/Region'] == 'US'\n",
    "us_death = table_death[df_bool]\n",
    "print('US death lines:', sum(df_bool), len(us_death.sum()))\n",
    "\n",
    "df_bool = table_conf['Country/Region'] == 'France'\n",
    "fr_conf = table_conf[df_bool]\n",
    "print('fr conf lines:', sum(df_bool), len(fr_conf.sum()))\n",
    "#print(fr_conf.sum())\n",
    "#print(pd.concat( [headx, fr_conf.sum()]))\n",
    "\n",
    "df_bool = table_recov['Country/Region'] == 'France'\n",
    "fr_recov = table_recov[df_bool]\n",
    "print('fr recov lines:', sum(df_bool), len(fr_recov.sum()))\n",
    "#print(fr_recov.sum())\n",
    "df_bool = table_death['Country/Region'] == 'France'\n",
    "fr_death = table_death[df_bool]\n",
    "print('fr death lines:', sum(df_bool), len(fr_death.sum()))\n",
    "#print(fr_conf.sum())\n",
    "\n",
    "\n",
    "df_bool = table_conf['Country/Region'] == 'Netherlands'\n",
    "nl_conf = table_conf[df_bool]\n",
    "print('nl conf lines:', sum(df_bool), len(nl_conf.sum()))\n",
    "df_bool = table_recov['Country/Region'] == 'Netherlands'\n",
    "nl_recov = table_recov[df_bool]\n",
    "print('nl recov lines:', sum(df_bool), len(nl_recov.sum()))\n",
    "df_bool = table_death['Country/Region'] == 'Netherlands'\n",
    "nl_death = table_death[df_bool]\n",
    "print('nl death lines:', sum(df_bool), len(nl_death.sum()))\n",
    "\n",
    "df_bool = table_conf['Country/Region'] == 'Germany'\n",
    "de_conf = table_conf[df_bool]\n",
    "print('de conf lines:', sum(df_bool), len(de_conf.sum()))\n",
    "df_bool = table_recov['Country/Region'] == 'Germany'\n",
    "de_recov = table_recov[df_bool]\n",
    "print('de recov lines:', sum(df_bool), len(de_recov.sum()))\n",
    "df_bool = table_death['Country/Region'] == 'Germany'\n",
    "de_death = table_death[df_bool]\n",
    "print('de death lines:', sum(df_bool), len(de_death.sum()))\n",
    "\n",
    "#Russia\n",
    "df_bool = table_conf['Country/Region'] == 'Russia'\n",
    "ru_conf = table_conf[df_bool]\n",
    "print('ru conf lines:', sum(df_bool), len(ru_conf.sum()))\n",
    "df_bool = table_recov['Country/Region'] == 'Russia'\n",
    "ru_recov = table_recov[df_bool]\n",
    "print('ru recov lines:', sum(df_bool), len(ru_recov.sum()))\n",
    "df_bool = table_death['Country/Region'] == 'Russia'\n",
    "ru_death = table_death[df_bool]\n",
    "print('ru death lines:', sum(df_bool), len(ru_death.sum()))\n",
    "#print(fr_death)\n",
    "#print(fr_conf.sum()[4:])\n",
    "#print(fr_death.sum()[4:])\n",
    "#print(fr_recov.sum()[4:])\n",
    "#print(fr_conf.sum()[4:] - fr_recov.sum()[4:])\n",
    "#print(us_conf)\n",
    "header = table_conf.columns.values[3:]\n",
    "print(header[1],header[-1], len(header[1:]))"
   ]
  },
  {
   "cell_type": "code",
   "execution_count": 21,
   "metadata": {},
   "outputs": [
    {
     "name": "stdout",
     "output_type": "stream",
     "text": [
      "cat covid19_4-28-20_*.png | ffmpeg -r 5 -i pipe:0 -pix_fmt yuv420p covid19_4-28-20.mp4\n"
     ]
    },
    {
     "data": {
      "text/plain": [
       "0"
      ]
     },
     "execution_count": 21,
     "metadata": {},
     "output_type": "execute_result"
    }
   ],
   "source": [
    "for ix in range(len(header)):\n",
    "#    print(ix)\n",
    "    \n",
    "    fig = plt.figure(figsize=(15,10))\n",
    "    ax1 = fig.add_subplot(1,1,1)\n",
    "    plt.style.use('ggplot')\n",
    "    plt.yscale('log')\n",
    "    \n",
    "    iend=5+ix\n",
    "\n",
    "    ax1.plot(table_conf.columns.values[4:iend], jap_death.sum()[4:iend],\n",
    "             label='JP(death)', color='red', linestyle='solid')\n",
    "    ax1.plot(table_conf.columns.values[4:iend], jap_conf.sum()[4:iend]- jap_recov.sum()[4:iend],\n",
    "             label='JP(conf-recov)', color='red', linestyle='dashed')\n",
    "\n",
    "##    ax1.plot(table_conf.columns.values[4:iend], diam_death.sum()[4:iend], label='Dia(death)')\n",
    "##    ax1.plot(table_conf.columns.values[4:iend], diam_conf.sum()[4:iend]-diam_recov.sum()[4:iend],\n",
    "##             label='Diam(conf-recov)')\n",
    "    \n",
    "##    pd.concat( [headx, fr_conf.sum()])\n",
    "##    ax1.plot(table_conf.columns.values[4:iend], fr_death.sum()[4:iend], \n",
    "##             label='fr(death)', color='green', linestyle='solid')\n",
    "\n",
    "    ax1.plot(table_conf.columns.values[4:iend], pd.concat([headx,fr_death.sum()])[4:iend], \n",
    "             label='fr(death)', color='green', linestyle='solid')\n",
    "    ax1.plot(table_conf.columns.values[4:iend], \n",
    "##             fr_conf.sum()[4:iend]-fr_recov.sum()[4:iend],\n",
    "             pd.concat([headx,fr_conf.sum()])[4:iend]- pd.concat([headx,fr_recov.sum()])[4:iend],\n",
    "             label='fr(conf-recov)', color='green', linestyle='dashed')\n",
    "    \n",
    "    ## NL (3:---)\n",
    "    ax1.plot(table_conf.columns.values[4:iend], pd.concat([headx, nl_death.sum()])[4:iend],\n",
    "             label='nl(death)', color='blue', linestyle='solid')\n",
    "    ax1.plot(table_conf.columns.values[4:iend], \n",
    "##             nl_conf.sum()[4:iend]-nl_recov.sum()[4:iend],\n",
    "             pd.concat([headx,nl_conf.sum()])[4:iend]- pd.concat([headx,nl_recov.sum()])[4:iend],\n",
    "             label='nl(conf-recov)', color='blue', linestyle='dashed')\n",
    "\n",
    "    ax1.plot(table_conf.columns.values[4:iend], de_death.sum()[4:iend],\n",
    "             label='de(death)', color='magenta', linestyle='solid')\n",
    "    ax1.plot(table_conf.columns.values[4:iend], de_conf.sum()[4:iend]- de_recov.sum()[4:iend],\n",
    "             label='de(conf-recov)', color='magenta', linestyle='dashed')\n",
    "    \n",
    "    ax1.plot(table_conf.columns.values[4:iend], ru_death.sum()[4:iend],\n",
    "             label='ru(death)', color='yellow', linestyle='solid')\n",
    "    ax1.plot(table_conf.columns.values[4:iend], ru_conf.sum()[4:iend]- ru_recov.sum()[4:iend],\n",
    "             label='ru(conf-recov)', color='yellow', linestyle='dashed')\n",
    "    \n",
    "    fig.autofmt_xdate(rotation=80)\n",
    "    plt.grid(True)\n",
    "    plt.legend(fontsize=14)\n",
    "    plt.title('covid-19 trend (by JHU CSSE)', fontsize=16)\n",
    "    plt.xlabel('date')\n",
    "    plt.ylabel('number of people')\n",
    "\n",
    "    header = table_conf.columns.values[4:]\n",
    "    fig.savefig(\"covid19_\"+header[-1].replace('/','-')+'_'+'{:04}'.format(ix)+\".png\")\n",
    "    plt.close()  # 大量出力時のjupyter内出力を停止\n",
    "\n",
    "#import subprocess\n",
    "import os\n",
    " \n",
    "cmd = \"cat \"+\"covid19_\"+header[-1].replace('/','-')+\"_*.png | ffmpeg -r 5 -i pipe:0 -pix_fmt yuv420p \"+ \"covid19_\"+header[-1].replace('/','-')+\".mp4\"\n",
    "print(cmd)\n",
    "#subprocess.call(cmd)\n",
    "os.system(cmd)"
   ]
  },
  {
   "cell_type": "code",
   "execution_count": 33,
   "metadata": {},
   "outputs": [
    {
     "name": "stdout",
     "output_type": "stream",
     "text": [
      "cat covid19_4-4-20_*.png | ffmpeg -r 5 -i pipe:0 -pix_fmt yuv420p covid19_4-4-20.mp4\n"
     ]
    },
    {
     "data": {
      "text/plain": [
       "0"
      ]
     },
     "execution_count": 33,
     "metadata": {},
     "output_type": "execute_result"
    }
   ],
   "source": [
    "import subprocess\n",
    "import os\n",
    " \n",
    "cmd = \"cat \"+\"covid19_\"+header[-1].replace('/','-')+\"_*.png | ffmpeg -r 5 -i pipe:0 -pix_fmt yuv420p \"+ \"covid19_\"+header[-1].replace('/','-')+\".mp4\"\n",
    "print(cmd)\n",
    "#subprocess.call(cmd)\n",
    "os.system(cmd)\n",
    "\n",
    "\n",
    "#    fig.savefig(\"covid19_\"+header[-1].replace('/','-')+'_'+'{:04}'.format(ix)+\".png\")\n",
    "#  910  cat covid19_4-3-20_????.png | ffmpeg -r 5 -i pipe:0 -pix_fmt yuv420p covid-19_20-0403_mov.mp4\n",
    "#  911  ls *.mp"
   ]
  },
  {
   "cell_type": "code",
   "execution_count": 76,
   "metadata": {},
   "outputs": [
    {
     "data": {
      "image/png": "[encoded data removed]",
      "text/plain": [
       "<Figure size 1080x720 with 1 Axes>"
      ]
     },
     "metadata": {},
     "output_type": "display_data"
    }
   ],
   "source": [
    "fig = plt.figure(figsize=(15,10))\n",
    "ax1 = fig.add_subplot(1,1,1)\n",
    "plt.style.use('ggplot')\n",
    "\n",
    "ax1.plot(table_conf.columns.values[4:], jap_death.iloc[:,4:].T, label='JP (death)')\n",
    "ax1.plot(table_conf.columns.values[4:], jap_conf.iloc[:,4:].T, label='JP (confirmed)')\n",
    "ax1.plot(table_conf.columns.values[4:], jap_recov.iloc[:,4:].T, label='JP (recovered)')\n",
    "\n",
    "#ax1.plot(table_conf.columns.values[4:], jap_recov.iloc[:,4:].T, label='recoverd_JP')\n",
    "\n",
    "ax1.plot(table_conf.columns.values[4:], diam_conf.iloc[:,4:].T, label='Diamond (confirmed)')\n",
    "ax1.plot(table_conf.columns.values[4:], diam_recov.iloc[:,4:].T, label='Diamond (recovered)')\n",
    "#ax1.plot(table_conf.columns.values[4:], diam_conf.iloc[:,4:].T - diam_recov.iloc[:,4:].T, label='Diamond (confirmed - recoverd)')\n",
    "\n",
    "\n",
    "#ax1.annotate(\"point A\", xy = (4, 4))\n",
    "#for (i, y) in enumerate(jap_death.iloc[:,4:].T):\n",
    "#    print(i,y)\n",
    "#    ax1.text(i, y, y, ha='center', va='bottom')\n",
    "\n",
    "#>>> list1 = ['a', 'b', 'c']\n",
    "#>>> for (i, x) in enumerate(list1):\n",
    "#...   print i,x    \n",
    "    \n",
    "fig.autofmt_xdate(rotation=70)\n",
    "plt.grid(True)\n",
    "plt.legend(fontsize=14)\n",
    "plt.title('colvid-19 trend', fontsize=16)\n",
    "plt.xlabel('date')\n",
    "plt.ylabel('number of people')\n",
    "\n",
    "fig.savefig(\"colvid19-x_\"+header[-1].replace('/','-')+\".png\")"
   ]
  },
  {
   "cell_type": "code",
   "execution_count": null,
   "metadata": {},
   "outputs": [],
   "source": []
  },
  {
   "cell_type": "code",
   "execution_count": 23,
   "metadata": {},
   "outputs": [
    {
     "name": "stdout",
     "output_type": "stream",
     "text": [
      "len jap-death: 83\n",
      "len jap_conf: 83\n",
      "len jap-recov: 83\n",
      "len diam-conf: 83\n",
      "len diam-recov: 83\n",
      "len diam-death: 83\n",
      "len us-conf: 83\n",
      "len us-recov: 83\n",
      "len us-death: 83\n",
      "     1/22/20  1/23/20  1/24/20  1/25/20  1/26/20  1/27/20  1/28/20  1/29/20  \\\n",
      "139        2        2        2        2        4        4        7        7   \n",
      "\n",
      "     1/30/20  1/31/20  ...  4/4/20  4/5/20  4/6/20  4/7/20  4/8/20  4/9/20  \\\n",
      "139       11       15  ...    3139    3139    3654    3906    4257    4667   \n",
      "\n",
      "     4/10/20  4/11/20  4/12/20  4/13/20  \n",
      "139     5530     6005     6748     7370  \n",
      "\n",
      "[1 rows x 83 columns]\n",
      "     1/22/20  1/23/20  1/24/20  1/25/20  1/26/20  1/27/20  1/28/20  1/29/20  \\\n",
      "133      NaN      NaN      NaN      NaN      NaN      NaN      NaN      NaN   \n",
      "139      NaN      NaN      NaN      NaN      NaN      NaN      NaN      NaN   \n",
      "\n",
      "     1/30/20  1/31/20  ...  4/4/20  4/5/20  4/6/20  4/7/20  4/8/20  4/9/20  \\\n",
      "133      NaN      NaN  ...     NaN     NaN     NaN     NaN     NaN     NaN   \n",
      "139      NaN      NaN  ...     NaN     NaN     NaN     NaN     NaN     NaN   \n",
      "\n",
      "     4/10/20  4/11/20  4/12/20  4/13/20  \n",
      "133      NaN      NaN      NaN      NaN  \n",
      "139      NaN      NaN      NaN      NaN  \n",
      "\n",
      "[2 rows x 83 columns]\n"
     ]
    },
    {
     "data": {
      "text/plain": [
       "'4-13-20'"
      ]
     },
     "execution_count": 23,
     "metadata": {},
     "output_type": "execute_result"
    }
   ],
   "source": [
    "#print(jap_death['3/8/20'])\n",
    "#print(jap_death.iloc[:,4:])\n",
    "print('len jap-death:',len(jap_death.iloc[:,4:].T))\n",
    "\n",
    "#print(jap_conf['3/8/20'])\n",
    "#print(jap_death.iloc[:,4:])\n",
    "print('len jap_conf:',len(jap_conf.iloc[:,4:].T))\n",
    "\n",
    "#print(jap_recov['3/8/20'])\n",
    "#print(jap_death.iloc[:,4:])\n",
    "print('len jap-recov:',len(jap_recov.iloc[:,4:].T))\n",
    "\n",
    "#print(diam_conf['3/8/20'])\n",
    "print('len diam-conf:',len(diam_conf.iloc[:,4:].T))\n",
    "print('len diam-recov:',len(diam_recov.iloc[:,4:].T))\n",
    "print('len diam-death:',len(diam_death.iloc[:,4:].T))\n",
    "\n",
    "print('len us-conf:',len(us_conf.iloc[:,4:].T))\n",
    "print('len us-recov:',len(us_recov.iloc[:,4:].T))\n",
    "print('len us-death:',len(us_death.iloc[:,4:].T))\n",
    "\n",
    "print(jap_conf.iloc[:,4:])\n",
    "jap_diff = jap_conf.iloc[:,4:]- jap_recov.iloc[:,4:]\n",
    "print(jap_diff)\n",
    "\n",
    "#print(diam_conf)\n",
    "#print(diam_recov)\n",
    "#print(diam_death)\n",
    "\n",
    "#print(table_conf.columns.values[4:])\n",
    "header = table_conf.columns.values[4:]\n",
    "header[-1].replace('/','-')"
   ]
  },
  {
   "cell_type": "code",
   "execution_count": null,
   "metadata": {},
   "outputs": [],
   "source": [
    "sum()"
   ]
  },
  {
   "cell_type": "code",
   "execution_count": null,
   "metadata": {},
   "outputs": [],
   "source": [
    "\n",
    "\n"
   ]
  },
  {
   "cell_type": "code",
   "execution_count": null,
   "metadata": {},
   "outputs": [],
   "source": []
  },
  {
   "cell_type": "code",
   "execution_count": null,
   "metadata": {},
   "outputs": [],
   "source": []
  },
  {
   "cell_type": "markdown",
   "metadata": {},
   "source": []
  },
  {
   "cell_type": "code",
   "execution_count": null,
   "metadata": {},
   "outputs": [],
   "source": []
  },
  {
   "cell_type": "code",
   "execution_count": null,
   "metadata": {},
   "outputs": [],
   "source": []
  },
  {
   "cell_type": "markdown",
   "metadata": {},
   "source": []
  }
 ],
 "metadata": {
  "kernelspec": {
   "display_name": "Python 3",
   "language": "python",
   "name": "python3"
  },
  "language_info": {
   "codemirror_mode": {
    "name": "ipython",
    "version": 3
   },
   "file_extension": ".py",
   "mimetype": "text/x-python",
   "name": "python",
   "nbconvert_exporter": "python",
   "pygments_lexer": "ipython3",
   "version": "3.7.7"
  }
 },
 "nbformat": 4,
 "nbformat_minor": 4
}
